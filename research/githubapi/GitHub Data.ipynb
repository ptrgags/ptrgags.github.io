{
 "cells": [
  {
   "cell_type": "code",
   "execution_count": 56,
   "metadata": {
    "collapsed": false
   },
   "outputs": [],
   "source": [
    "import requests\n",
    "import re"
   ]
  },
  {
   "cell_type": "code",
   "execution_count": 57,
   "metadata": {
    "collapsed": true
   },
   "outputs": [],
   "source": [
    "user_url = \"https://api.github.com/users/ptrgags\""
   ]
  },
  {
   "cell_type": "code",
   "execution_count": 58,
   "metadata": {
    "collapsed": false
   },
   "outputs": [],
   "source": [
    "user_info = requests.get(user_url).json()\n",
    "repos_url = user_info[u'repos_url']"
   ]
  },
  {
   "cell_type": "code",
   "execution_count": 66,
   "metadata": {
    "collapsed": false
   },
   "outputs": [],
   "source": [
    "def process_repo(repo):\n",
    "    info = {}\n",
    "    info['title'] = repo['name']\n",
    "    \n",
    "    #Description and years\n",
    "    description_splitter = \" (?=\\()\" #matches the space before the date\n",
    "    description_parts = re.split(description_splitter, repo['description'])\n",
    "    info['description']  = description_parts[0]\n",
    "    try:\n",
    "        info['years'] = description_parts[1][1:-1]\n",
    "    except IndexError:\n",
    "        info['years'] = ''\n",
    "    \n",
    "    #Tags\n",
    "    #TODO: Prerelease/Release status\n",
    "    tags_url = repo['tags_url']\n",
    "    tags_info = requests.get(tags_url).json()\n",
    "    info['tags'] = [tag['name'] for tag in tags_info]\n",
    "    \n",
    "    #Milestones\n",
    "    #TODO: how to sort these?\n",
    "    milestones_url = repo['milestones_url'].replace(\"{/number}\",\"\")\n",
    "    milestones_info = requests.get(milestones_url).json()\n",
    "    info['milestones'] = []\n",
    "    for milestone in milestones_info:\n",
    "        milestone_data = {}\n",
    "        milestone_data['name'] = milestone['title']\n",
    "        milestone_data['open'] = milestone['open_issues']\n",
    "        milestone_data['closed'] = milestone['closed_issues']\n",
    "        milestone_data['status'] = milestone['state']\n",
    "        milestone_data['update_time'] = milestone['updated_at']\n",
    "        info['milestones'].append(milestone_data)\n",
    "    \n",
    "    #Issues\n",
    "    \n",
    "    #Commits\n",
    "    #TODO: put together a tree from branches and commits\n",
    "    commits_url = repo['commits_url'].replace(\"{/sha}\", \"\")\n",
    "    commits_info = requests.get(commits_url).json()\n",
    "    info['commits'] = []\n",
    "    for commit in commits_info:\n",
    "        commit_info = {}\n",
    "        commit_info['sha'] = commit['sha']\n",
    "        commit_info['parents'] = [p['sha'] for p in commit['parents']]\n",
    "        info['commits'].append(commit_info)\n",
    "    \n",
    "    \n",
    "    #Branches\n",
    "    branches_url = repo['branches_url'].replace(\"{/branch}\", \"\")\n",
    "    branches_info = requests.get(branches_url).json()\n",
    "    info['branches'] = [(b['name'], b['commit']['sha']) for b in branches_info]\n",
    "    \n",
    "    #Contributors\n",
    "    \n",
    "    #Links\n",
    "    info['github_link'] = repo['html_url']\n",
    "    info['website'] = repo['homepage'] or ''\n",
    "        \n",
    "    \n",
    "    return info"
   ]
  },
  {
   "cell_type": "code",
   "execution_count": 67,
   "metadata": {
    "collapsed": false
   },
   "outputs": [
    {
     "data": {
      "text/plain": [
       "{'branches': [(u'content', u'f240ce8c7b9386bd16e8adbee5fc0322ee93a51d'),\n",
       "  (u'develop', u'31398e5f9435e242e7863d03e3ab7c42bba5faa0'),\n",
       "  (u'json', u'10f09f3ec93f5bdf769eceabf617c89a0dc18733'),\n",
       "  (u'master', u'0827bc41ef5840b6309aeeaf44eec7b5ba0a437a'),\n",
       "  (u'research', u'a687cb938047de1619a18d6406594d7470ab9889')],\n",
       " 'commits': [{'parents': [u'10d94b9e47befb2f72cd4f96661ed3042a24f750'],\n",
       "   'sha': u'0827bc41ef5840b6309aeeaf44eec7b5ba0a437a'},\n",
       "  {'parents': [u'404dccf92b9de7a8f61d9870ec97fc01290a8229',\n",
       "    u'10f09f3ec93f5bdf769eceabf617c89a0dc18733'],\n",
       "   'sha': u'10d94b9e47befb2f72cd4f96661ed3042a24f750'},\n",
       "  {'parents': [u'288def75b21e023ff9dde640c064dd9d7ade2cdd'],\n",
       "   'sha': u'10f09f3ec93f5bdf769eceabf617c89a0dc18733'},\n",
       "  {'parents': [u'27a609ef1ffdd44f1f96134dde3f57c9cb36f838'],\n",
       "   'sha': u'288def75b21e023ff9dde640c064dd9d7ade2cdd'},\n",
       "  {'parents': [u'15f043b5400d995428fdf81ac65f31bcefae6aed'],\n",
       "   'sha': u'27a609ef1ffdd44f1f96134dde3f57c9cb36f838'},\n",
       "  {'parents': [u'a7d9a06726aeba1a5811d38ccae2a0008f299cfe'],\n",
       "   'sha': u'15f043b5400d995428fdf81ac65f31bcefae6aed'},\n",
       "  {'parents': [u'404dccf92b9de7a8f61d9870ec97fc01290a8229'],\n",
       "   'sha': u'a7d9a06726aeba1a5811d38ccae2a0008f299cfe'},\n",
       "  {'parents': [u'e1d2bfbac91773bf4a88ae3bc1c878450107b537',\n",
       "    u'f240ce8c7b9386bd16e8adbee5fc0322ee93a51d'],\n",
       "   'sha': u'404dccf92b9de7a8f61d9870ec97fc01290a8229'},\n",
       "  {'parents': [u'9e4c79e9bcbbbcc1cb5f9e9af73867eeb039eb91'],\n",
       "   'sha': u'f240ce8c7b9386bd16e8adbee5fc0322ee93a51d'},\n",
       "  {'parents': [u'9e3424b0c996e7669408c93a22281a480b4ca36a'],\n",
       "   'sha': u'9e4c79e9bcbbbcc1cb5f9e9af73867eeb039eb91'},\n",
       "  {'parents': [u'ee095921b28af00084c4f39ef408091bb4627557',\n",
       "    u'9e3424b0c996e7669408c93a22281a480b4ca36a'],\n",
       "   'sha': u'e1d2bfbac91773bf4a88ae3bc1c878450107b537'},\n",
       "  {'parents': [u'5f0fb96f1e3f8c3fd2c53a09bbd9877105db6e57'],\n",
       "   'sha': u'9e3424b0c996e7669408c93a22281a480b4ca36a'},\n",
       "  {'parents': [u'5b5c0e18892257c63a6defe29e6d8581475b5c59'],\n",
       "   'sha': u'5f0fb96f1e3f8c3fd2c53a09bbd9877105db6e57'},\n",
       "  {'parents': [u'ee095921b28af00084c4f39ef408091bb4627557'],\n",
       "   'sha': u'5b5c0e18892257c63a6defe29e6d8581475b5c59'},\n",
       "  {'parents': [u'790f6889f2ca95483adff19f512a370263de06b1',\n",
       "    u'31398e5f9435e242e7863d03e3ab7c42bba5faa0'],\n",
       "   'sha': u'ee095921b28af00084c4f39ef408091bb4627557'},\n",
       "  {'parents': [u'e2854dec719f73e99c6a878f791ce484013c5b54'],\n",
       "   'sha': u'31398e5f9435e242e7863d03e3ab7c42bba5faa0'},\n",
       "  {'parents': [u'15e2cc5e6de95e496e0e1a498a4f2e7bfe783fc6'],\n",
       "   'sha': u'e2854dec719f73e99c6a878f791ce484013c5b54'},\n",
       "  {'parents': [u'4347bf8667f64ba745018126a119dd2595c9b217'],\n",
       "   'sha': u'15e2cc5e6de95e496e0e1a498a4f2e7bfe783fc6'},\n",
       "  {'parents': [u'4f125ba12570ad001f2fc8018419a608a9c1e6b0'],\n",
       "   'sha': u'4347bf8667f64ba745018126a119dd2595c9b217'},\n",
       "  {'parents': [u'c1446df960393779f9f9fb33f5118da380242e9c'],\n",
       "   'sha': u'4f125ba12570ad001f2fc8018419a608a9c1e6b0'},\n",
       "  {'parents': [u'585f1852b3c2c3d8c91e836a3d88656572fc1bd4'],\n",
       "   'sha': u'c1446df960393779f9f9fb33f5118da380242e9c'},\n",
       "  {'parents': [u'790f6889f2ca95483adff19f512a370263de06b1'],\n",
       "   'sha': u'585f1852b3c2c3d8c91e836a3d88656572fc1bd4'},\n",
       "  {'parents': [u'6a634aede113464ee0dc8fc5429c293054b563e4'],\n",
       "   'sha': u'790f6889f2ca95483adff19f512a370263de06b1'},\n",
       "  {'parents': [u'321fa4df1f4403a4f19143cad0b731c124af2152',\n",
       "    u'139c233c9a1e69b719117e675ddc14c2947f33ef'],\n",
       "   'sha': u'6a634aede113464ee0dc8fc5429c293054b563e4'},\n",
       "  {'parents': [u'69210fc7045437d2ab8362c7335ef591ef8a6a2a'],\n",
       "   'sha': u'139c233c9a1e69b719117e675ddc14c2947f33ef'},\n",
       "  {'parents': [u'131e53d55c380d0fb20d17b0ceb3032ab099f8dc'],\n",
       "   'sha': u'69210fc7045437d2ab8362c7335ef591ef8a6a2a'},\n",
       "  {'parents': [u'11d236c7fef8e68edad25a683cad282c5e6e58ef'],\n",
       "   'sha': u'131e53d55c380d0fb20d17b0ceb3032ab099f8dc'},\n",
       "  {'parents': [u'f423209c8ac6d65142216435d688e3a30a36e396'],\n",
       "   'sha': u'11d236c7fef8e68edad25a683cad282c5e6e58ef'},\n",
       "  {'parents': [u'86ea3ea95813d49fe741a1725dc03321931323db'],\n",
       "   'sha': u'f423209c8ac6d65142216435d688e3a30a36e396'},\n",
       "  {'parents': [u'2117defb195bd0d8ee49784e0f03364582089317'],\n",
       "   'sha': u'86ea3ea95813d49fe741a1725dc03321931323db'}],\n",
       " 'description': u'My new development website',\n",
       " 'github_link': u'https://github.com/ptrgags/ptrgags.github.io',\n",
       " 'milestones': [{'closed': 4,\n",
       "   'name': u'Version 1.1',\n",
       "   'open': 11,\n",
       "   'status': u'open',\n",
       "   'update_time': u'2015-12-05T11:37:55Z'}],\n",
       " 'tags': [u'v1.0.3',\n",
       "  u'v1.0.2',\n",
       "  u'v1.0.1',\n",
       "  u'v0.2.1',\n",
       "  u'v0.1.3',\n",
       "  u'v0.1.2',\n",
       "  u'v0.1.1'],\n",
       " 'title': u'ptrgags.github.io',\n",
       " 'website': u'http://ptrgags.github.io',\n",
       " 'years': u'2015'}"
      ]
     },
     "execution_count": 67,
     "metadata": {},
     "output_type": "execute_result"
    }
   ],
   "source": [
    "repos_info = requests.get(repos_url).json()\n",
    "process_repo(repos_info[9])"
   ]
  },
  {
   "cell_type": "code",
   "execution_count": null,
   "metadata": {
    "collapsed": false
   },
   "outputs": [],
   "source": []
  },
  {
   "cell_type": "code",
   "execution_count": null,
   "metadata": {
    "collapsed": true
   },
   "outputs": [],
   "source": []
  }
 ],
 "metadata": {
  "kernelspec": {
   "display_name": "Python 2",
   "language": "python",
   "name": "python2"
  },
  "language_info": {
   "codemirror_mode": {
    "name": "ipython",
    "version": 2
   },
   "file_extension": ".py",
   "mimetype": "text/x-python",
   "name": "python",
   "nbconvert_exporter": "python",
   "pygments_lexer": "ipython2",
   "version": "2.7.10"
  }
 },
 "nbformat": 4,
 "nbformat_minor": 0
}
